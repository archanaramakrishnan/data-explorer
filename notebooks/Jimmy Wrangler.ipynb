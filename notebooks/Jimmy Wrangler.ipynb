{
 "cells": [
  {
   "cell_type": "markdown",
   "metadata": {},
   "source": [
    "First, I import numpy and pandas to load the data sets into pandas data frames."
   ]
  },
  {
   "cell_type": "code",
   "execution_count": 2,
   "metadata": {},
   "outputs": [],
   "source": [
    "import numpy as np\n",
    "import pandas as pd"
   ]
  },
  {
   "cell_type": "markdown",
   "metadata": {},
   "source": [
    "I read in 3 different education datasets to perform an analytical study of the impact of the COVID-19 pandemic on the existing state of education around the world:\n",
    "- [UNESCO Educational Stats](https://www.kaggle.com/krukmat/complete-educational-stats-unesco \"Complete educational Stats (UNESCO)\")\n",
    "- [World Bank Educational Stats](https://www.kaggle.com/theworldbank/education-statistics \"Education Statistics\")\n",
    "- [Impact on Enrollment Due to COVID-19](https://www.kaggle.com/krukmat/complete-educational-stats-unesco \"Education and COVID-19\")"
   ]
  },
  {
   "cell_type": "markdown",
   "metadata": {},
   "source": [
    "First, I loaded the UNESCO data into a panda data frame. "
   ]
  },
  {
   "cell_type": "code",
   "execution_count": 28,
   "metadata": {},
   "outputs": [
    {
     "name": "stderr",
     "output_type": "stream",
     "text": [
      "/Users/Archana/miniconda3/lib/python3.8/site-packages/IPython/core/interactiveshell.py:3145: DtypeWarning: Columns (0) have mixed types.Specify dtype option on import or set low_memory=False.\n",
      "  has_raised = await self.run_ast_nodes(code_ast.body, cell_name,\n"
     ]
    }
   ],
   "source": [
    "unesco_stats_df = pd.read_csv('../data/raw/EDULIT_DS_30112019025843883.csv')"
   ]
  },
  {
   "cell_type": "markdown",
   "metadata": {},
   "source": [
    "I peek at the data to see how it is formatted."
   ]
  },
  {
   "cell_type": "code",
   "execution_count": 29,
   "metadata": {},
   "outputs": [
    {
     "data": {
      "text/html": [
       "<div>\n",
       "<style scoped>\n",
       "    .dataframe tbody tr th:only-of-type {\n",
       "        vertical-align: middle;\n",
       "    }\n",
       "\n",
       "    .dataframe tbody tr th {\n",
       "        vertical-align: top;\n",
       "    }\n",
       "\n",
       "    .dataframe thead th {\n",
       "        text-align: right;\n",
       "    }\n",
       "</style>\n",
       "<table border=\"1\" class=\"dataframe\">\n",
       "  <thead>\n",
       "    <tr style=\"text-align: right;\">\n",
       "      <th></th>\n",
       "      <th>EDULIT_IND</th>\n",
       "      <th>Indicator</th>\n",
       "      <th>LOCATION</th>\n",
       "      <th>Country</th>\n",
       "      <th>TIME</th>\n",
       "      <th>Time</th>\n",
       "      <th>Value</th>\n",
       "      <th>Flag Codes</th>\n",
       "      <th>Flags</th>\n",
       "    </tr>\n",
       "  </thead>\n",
       "  <tbody>\n",
       "    <tr>\n",
       "      <th>0</th>\n",
       "      <td>20060</td>\n",
       "      <td>Enrolment in pre-primary education, both sexes...</td>\n",
       "      <td>AUS</td>\n",
       "      <td>Australia</td>\n",
       "      <td>1971</td>\n",
       "      <td>1971</td>\n",
       "      <td>184381.0</td>\n",
       "      <td>NaN</td>\n",
       "      <td>NaN</td>\n",
       "    </tr>\n",
       "    <tr>\n",
       "      <th>1</th>\n",
       "      <td>20060</td>\n",
       "      <td>Enrolment in pre-primary education, both sexes...</td>\n",
       "      <td>AUS</td>\n",
       "      <td>Australia</td>\n",
       "      <td>1974</td>\n",
       "      <td>1974</td>\n",
       "      <td>182545.0</td>\n",
       "      <td>NaN</td>\n",
       "      <td>NaN</td>\n",
       "    </tr>\n",
       "    <tr>\n",
       "      <th>2</th>\n",
       "      <td>20060</td>\n",
       "      <td>Enrolment in pre-primary education, both sexes...</td>\n",
       "      <td>AUS</td>\n",
       "      <td>Australia</td>\n",
       "      <td>1975</td>\n",
       "      <td>1975</td>\n",
       "      <td>186652.0</td>\n",
       "      <td>NaN</td>\n",
       "      <td>NaN</td>\n",
       "    </tr>\n",
       "    <tr>\n",
       "      <th>3</th>\n",
       "      <td>20060</td>\n",
       "      <td>Enrolment in pre-primary education, both sexes...</td>\n",
       "      <td>AUS</td>\n",
       "      <td>Australia</td>\n",
       "      <td>1976</td>\n",
       "      <td>1976</td>\n",
       "      <td>203146.0</td>\n",
       "      <td>NaN</td>\n",
       "      <td>NaN</td>\n",
       "    </tr>\n",
       "    <tr>\n",
       "      <th>4</th>\n",
       "      <td>20060</td>\n",
       "      <td>Enrolment in pre-primary education, both sexes...</td>\n",
       "      <td>AUS</td>\n",
       "      <td>Australia</td>\n",
       "      <td>1977</td>\n",
       "      <td>1977</td>\n",
       "      <td>203114.0</td>\n",
       "      <td>NaN</td>\n",
       "      <td>NaN</td>\n",
       "    </tr>\n",
       "  </tbody>\n",
       "</table>\n",
       "</div>"
      ],
      "text/plain": [
       "  EDULIT_IND                                          Indicator LOCATION  \\\n",
       "0      20060  Enrolment in pre-primary education, both sexes...      AUS   \n",
       "1      20060  Enrolment in pre-primary education, both sexes...      AUS   \n",
       "2      20060  Enrolment in pre-primary education, both sexes...      AUS   \n",
       "3      20060  Enrolment in pre-primary education, both sexes...      AUS   \n",
       "4      20060  Enrolment in pre-primary education, both sexes...      AUS   \n",
       "\n",
       "     Country  TIME  Time     Value Flag Codes Flags  \n",
       "0  Australia  1971  1971  184381.0        NaN   NaN  \n",
       "1  Australia  1974  1974  182545.0        NaN   NaN  \n",
       "2  Australia  1975  1975  186652.0        NaN   NaN  \n",
       "3  Australia  1976  1976  203146.0        NaN   NaN  \n",
       "4  Australia  1977  1977  203114.0        NaN   NaN  "
      ]
     },
     "execution_count": 29,
     "metadata": {},
     "output_type": "execute_result"
    }
   ],
   "source": [
    "unesco_stats_df.head()"
   ]
  },
  {
   "cell_type": "markdown",
   "metadata": {},
   "source": [
    "I drop the missing columns:"
   ]
  },
  {
   "cell_type": "code",
   "execution_count": 36,
   "metadata": {},
   "outputs": [
    {
     "data": {
      "text/html": [
       "<div>\n",
       "<style scoped>\n",
       "    .dataframe tbody tr th:only-of-type {\n",
       "        vertical-align: middle;\n",
       "    }\n",
       "\n",
       "    .dataframe tbody tr th {\n",
       "        vertical-align: top;\n",
       "    }\n",
       "\n",
       "    .dataframe thead th {\n",
       "        text-align: right;\n",
       "    }\n",
       "</style>\n",
       "<table border=\"1\" class=\"dataframe\">\n",
       "  <thead>\n",
       "    <tr style=\"text-align: right;\">\n",
       "      <th></th>\n",
       "      <th>EDULIT_IND</th>\n",
       "      <th>Indicator</th>\n",
       "      <th>LOCATION</th>\n",
       "      <th>Country</th>\n",
       "      <th>TIME</th>\n",
       "      <th>Time</th>\n",
       "      <th>Value</th>\n",
       "      <th>Flag Codes</th>\n",
       "      <th>Flags</th>\n",
       "    </tr>\n",
       "  </thead>\n",
       "  <tbody>\n",
       "    <tr>\n",
       "      <th>238</th>\n",
       "      <td>20060</td>\n",
       "      <td>Enrolment in pre-primary education, both sexes...</td>\n",
       "      <td>DNK</td>\n",
       "      <td>Denmark</td>\n",
       "      <td>2003</td>\n",
       "      <td>2003</td>\n",
       "      <td>249981.0</td>\n",
       "      <td>‡</td>\n",
       "      <td>UIS Estimation</td>\n",
       "    </tr>\n",
       "    <tr>\n",
       "      <th>1217</th>\n",
       "      <td>20060</td>\n",
       "      <td>Enrolment in pre-primary education, both sexes...</td>\n",
       "      <td>ASM</td>\n",
       "      <td>American Samoa</td>\n",
       "      <td>1975</td>\n",
       "      <td>1975</td>\n",
       "      <td>2000.0</td>\n",
       "      <td>‡</td>\n",
       "      <td>UIS Estimation</td>\n",
       "    </tr>\n",
       "    <tr>\n",
       "      <th>1218</th>\n",
       "      <td>20060</td>\n",
       "      <td>Enrolment in pre-primary education, both sexes...</td>\n",
       "      <td>ASM</td>\n",
       "      <td>American Samoa</td>\n",
       "      <td>1978</td>\n",
       "      <td>1978</td>\n",
       "      <td>1816.0</td>\n",
       "      <td>‡</td>\n",
       "      <td>UIS Estimation</td>\n",
       "    </tr>\n",
       "    <tr>\n",
       "      <th>1221</th>\n",
       "      <td>20060</td>\n",
       "      <td>Enrolment in pre-primary education, both sexes...</td>\n",
       "      <td>ASM</td>\n",
       "      <td>American Samoa</td>\n",
       "      <td>1983</td>\n",
       "      <td>1983</td>\n",
       "      <td>1820.0</td>\n",
       "      <td>‡</td>\n",
       "      <td>UIS Estimation</td>\n",
       "    </tr>\n",
       "    <tr>\n",
       "      <th>1222</th>\n",
       "      <td>20060</td>\n",
       "      <td>Enrolment in pre-primary education, both sexes...</td>\n",
       "      <td>ASM</td>\n",
       "      <td>American Samoa</td>\n",
       "      <td>1984</td>\n",
       "      <td>1984</td>\n",
       "      <td>1845.0</td>\n",
       "      <td>‡</td>\n",
       "      <td>UIS Estimation</td>\n",
       "    </tr>\n",
       "  </tbody>\n",
       "</table>\n",
       "</div>"
      ],
      "text/plain": [
       "     EDULIT_IND                                          Indicator LOCATION  \\\n",
       "238       20060  Enrolment in pre-primary education, both sexes...      DNK   \n",
       "1217      20060  Enrolment in pre-primary education, both sexes...      ASM   \n",
       "1218      20060  Enrolment in pre-primary education, both sexes...      ASM   \n",
       "1221      20060  Enrolment in pre-primary education, both sexes...      ASM   \n",
       "1222      20060  Enrolment in pre-primary education, both sexes...      ASM   \n",
       "\n",
       "             Country  TIME  Time     Value Flag Codes           Flags  \n",
       "238          Denmark  2003  2003  249981.0          ‡  UIS Estimation  \n",
       "1217  American Samoa  1975  1975    2000.0          ‡  UIS Estimation  \n",
       "1218  American Samoa  1978  1978    1816.0          ‡  UIS Estimation  \n",
       "1221  American Samoa  1983  1983    1820.0          ‡  UIS Estimation  \n",
       "1222  American Samoa  1984  1984    1845.0          ‡  UIS Estimation  "
      ]
     },
     "execution_count": 36,
     "metadata": {},
     "output_type": "execute_result"
    }
   ],
   "source": [
    "unesco_stats_df.dropna().head()"
   ]
  },
  {
   "cell_type": "markdown",
   "metadata": {},
   "source": [
    "I notice that the flag codes and flags are unnecessary values as their data type makes them all appear as the same value. I remove this data from the table."
   ]
  },
  {
   "cell_type": "code",
   "execution_count": 37,
   "metadata": {},
   "outputs": [],
   "source": [
    "unesco_stats_df = unesco_stats_df.drop(columns=['Flag Codes', 'Flags'])"
   ]
  },
  {
   "cell_type": "markdown",
   "metadata": {},
   "source": [
    "After clearning, these are the column headers:"
   ]
  },
  {
   "cell_type": "code",
   "execution_count": 38,
   "metadata": {},
   "outputs": [
    {
     "data": {
      "text/plain": [
       "Index(['EDULIT_IND', 'Indicator', 'LOCATION', 'Country', 'TIME', 'Time',\n",
       "       'Value'],\n",
       "      dtype='object')"
      ]
     },
     "execution_count": 38,
     "metadata": {},
     "output_type": "execute_result"
    }
   ],
   "source": [
    "unesco_stats_df.columns"
   ]
  },
  {
   "cell_type": "markdown",
   "metadata": {},
   "source": [
    "Next, I load in the other two data sources and check for common columns:"
   ]
  },
  {
   "cell_type": "code",
   "execution_count": 42,
   "metadata": {},
   "outputs": [],
   "source": [
    "world_bank_stats_df = pd.read_csv('../data/raw/edstats-csv-zip-32-mb-/EdStatsCountry.csv')\n",
    "covid_stats_df = pd.read_csv('../data/raw/education_COVID19.csv')"
   ]
  },
  {
   "cell_type": "code",
   "execution_count": 61,
   "metadata": {},
   "outputs": [
    {
     "data": {
      "text/plain": [
       "Index(['Country Code', 'Short Name', 'Table Name', 'Long Name', '2-alpha code',\n",
       "       'Currency Unit', 'Special Notes', 'Region', 'Income Group', 'WB-2 code',\n",
       "       'National accounts base year', 'National accounts reference year',\n",
       "       'SNA price valuation', 'Lending category', 'Other groups',\n",
       "       'System of National Accounts', 'Alternative conversion factor',\n",
       "       'PPP survey year', 'Balance of Payments Manual in use',\n",
       "       'External debt Reporting status', 'System of trade',\n",
       "       'Government Accounting concept', 'IMF data dissemination standard',\n",
       "       'Latest population census', 'Latest household survey',\n",
       "       'Source of most recent Income and expenditure data',\n",
       "       'Vital registration complete', 'Latest agricultural census',\n",
       "       'Latest industrial data', 'Latest trade data',\n",
       "       'Latest water withdrawal data', 'Unnamed: 31'],\n",
       "      dtype='object')"
      ]
     },
     "execution_count": 61,
     "metadata": {},
     "output_type": "execute_result"
    }
   ],
   "source": [
    "world_bank_stats_df.columns"
   ]
  },
  {
   "cell_type": "code",
   "execution_count": 60,
   "metadata": {},
   "outputs": [
    {
     "data": {
      "text/plain": [
       "Index(['Country Code', 'Country Name', 'Dt Extraction',\n",
       "       'If Closed due to COVID19 When', 'Income Level', 'Region Name',\n",
       "       'School Status', 'Year Pre', 'Year Prm', 'Year Sec', 'Year Ter',\n",
       "       'Latitude (generated)', 'Longitude (generated)', 'Enrollment',\n",
       "       'Se Pre Enrl', 'Se Prm Enrl', 'Se Sec Enrl', 'Se Ter Enrl'],\n",
       "      dtype='object')"
      ]
     },
     "execution_count": 60,
     "metadata": {},
     "output_type": "execute_result"
    }
   ],
   "source": [
    "covid_stats_df.columns"
   ]
  },
  {
   "cell_type": "code",
   "execution_count": 62,
   "metadata": {},
   "outputs": [
    {
     "data": {
      "text/plain": [
       "Index([], dtype='object')"
      ]
     },
     "execution_count": 62,
     "metadata": {},
     "output_type": "execute_result"
    }
   ],
   "source": [
    "#trying the find intersection\n",
    "pd.Index(world_bank_stats_df).intersection(pd.Index(covid_stats_df))"
   ]
  }
 ],
 "metadata": {
  "kernelspec": {
   "display_name": "Python 3",
   "language": "python",
   "name": "python3"
  },
  "language_info": {
   "codemirror_mode": {
    "name": "ipython",
    "version": 3
   },
   "file_extension": ".py",
   "mimetype": "text/x-python",
   "name": "python",
   "nbconvert_exporter": "python",
   "pygments_lexer": "ipython3",
   "version": "3.8.3"
  }
 },
 "nbformat": 4,
 "nbformat_minor": 4
}
